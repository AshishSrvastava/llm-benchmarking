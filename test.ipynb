{
 "cells": [
  {
   "cell_type": "code",
   "execution_count": 6,
   "metadata": {},
   "outputs": [],
   "source": [
    "import pandas as pd\n",
    "import numpy as np\n",
    "import json\n",
    "\n",
    "# Read json file from data/GRE/practice-gre.json as a dictionary\n",
    "with open('data/GRE/practice-gre.json') as f:\n",
    "    data = json.load(f)\n",
    "\n",
    "# Make a df from data['questions'] and flip the rows and columns\n",
    "df = pd.DataFrame(data['questions']).T"
   ]
  },
  {
   "cell_type": "code",
   "execution_count": 10,
   "metadata": {},
   "outputs": [],
   "source": [
    "mcq = df[df['type'] == 'multiple_choice']"
   ]
  },
  {
   "cell_type": "code",
   "execution_count": 25,
   "metadata": {},
   "outputs": [
    {
     "name": "stdout",
     "output_type": "stream",
     "text": [
      "If $\\frac{a - b}{a + b} = 2$, and $b = 1$, what is the value of $a$?\n",
      "{'A': '1', 'B': '0', 'C': '-1', 'D': '-2', 'E': '-3'}\n",
      "['E']\n",
      "The floor space in a certain market is rented for $15 per 30 square feet for one day. In the market, Alice rented a rectangular floor space that measured 8 feet by 15 feet, and Betty rented a rectangular floor space that measured 15 feet by 20 feet. If each woman rented her floor space for one day, how much more did Betty pay than Alice?\n",
      "{'A': '$27', 'B': '$36', 'C': '$54', 'D': '$90', 'E': '$180'}\n",
      "['D']\n",
      "A business owner obtained a $6,000 loan at a simple annual interest rate of $r$ percent in order to purchase a computer. After one year, the owner made a single payment of $6,840 to repay the loan, including the interest. What is the value of $r$?\n",
      "{'A': '7.0', 'B': '8.4', 'C': '12.3', 'D': '14', 'E': '16.8'}\n",
      "['D']\n",
      "Which of the following inequalities have at least one positive solution and at least one negative solution? Indicate *all* such inequalities\n",
      "{'A': '$\\x0crac{5}{3}x < x$', 'B': '$x^3 < x$', 'C': '$x - 6 < x - 7$'}\n",
      "['B']\n",
      "If $\\left( 5 ^ {5x} \\right) (25) = 5^n$, where $n$ and $x$ are integers, what is the value of $n$ in terms of $x$?\n",
      "{'A': '$5x + 1$', 'B': '$5x + 2$', 'C': '$5x + 5$', 'D': '$10x$', 'E': '$10x + 2$'}\n",
      "['B']\n",
      "What is the median of the percent values representing gasoline tax revenue as a percent of total retail gasoline sales for the nine countries listed in the bar graph?\n",
      "{'A': '67.6%', 'B': '68.0%', 'C': '70.0%', 'D': '70.7%', 'E': '73.7%'}\n",
      "['A']\n",
      "What is the median of the percent values representing gasoline tax revenue as a percent of total retail gasoline sales for the nine countries listed in the bar graph?\n",
      "{'A': \"In 2000 France's gasoline tax revenue as a percent of its total tax revenue was greater than 20.4 percent.\", 'B': 'In 2000 the price per gallon of gasoline was greater in Norway than it was in Spain.', 'C': \"In 2000 Germany's gasoline tax revenue was more than 3 times its tobacco tax revenue.\"}\n",
      "['C']\n",
      "In 2000 the amount of Germany's gasoline tax revenue was approximately what percent less than the amount of its income tax revenue?\n",
      "{'A': '10%', 'B': '20%', 'C': '30%', 'D': '40%', 'E': '50%'}\n",
      "['C']\n",
      "If Germany's total tax revenue in 2000 was approximately $170 billion, approximately what was the amount of the total retail gasoline sales in Germany that year?\n",
      "{'A': '$10 billion', 'B': '$20 billion', 'C': '$30 billion', 'D': '$40 billion', 'E': '$50 billion'}\n",
      "['E']\n",
      "Of the 180 judges appointed by a certain President, 30 percent were women and 25 percent were from minority groups. If $\\frac{1}{9}$ of the women appointed were from minority groups, how many of the judges appointed were neither women nor from minority groups?\n",
      "{'A': '75', 'B': '81', 'C': '87', 'D': '93', 'E': '99'}\n",
      "['C']\n",
      "If an integer is divisible by both 8 and 15, then the integer also must be divisible by which of the following?\n",
      "{'A': '16', 'B': '24', 'C': '32', 'D': '36', 'E': '45'}\n",
      "['B']\n",
      "A certain experiment has three possible outcomes. The outcomes are mutually exclusive and have probabilities $p$, $\\frac{p}{2}$ and $\\frac{p}{4} respectively. What is the value of $p$?\n",
      "{'A': '$\\\\frac{1}{7}$', 'B': '$\\\\frac{2}{7}$', 'C': '$\\\\frac{3}{7}$', 'D': '$\\\\frac{4}{7}$', 'E': '$\\\\frac{5}{7}$'}\n",
      "['D']\n"
     ]
    }
   ],
   "source": [
    "for i in range(len(mcq.head(12))):\n",
    "    print(mcq.iloc[i]['prompt'])\n",
    "    print(mcq.iloc[i]['choices'])\n",
    "    print(mcq.iloc[i]['answer'])"
   ]
  },
  {
   "cell_type": "code",
   "execution_count": null,
   "metadata": {},
   "outputs": [],
   "source": []
  }
 ],
 "metadata": {
  "kernelspec": {
   "display_name": "Python 3",
   "language": "python",
   "name": "python3"
  },
  "language_info": {
   "codemirror_mode": {
    "name": "ipython",
    "version": 3
   },
   "file_extension": ".py",
   "mimetype": "text/x-python",
   "name": "python",
   "nbconvert_exporter": "python",
   "pygments_lexer": "ipython3",
   "version": "3.10.10"
  },
  "orig_nbformat": 4
 },
 "nbformat": 4,
 "nbformat_minor": 2
}
