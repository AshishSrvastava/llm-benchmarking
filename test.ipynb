{
 "cells": [
  {
   "cell_type": "code",
   "execution_count": 1,
   "metadata": {},
   "outputs": [],
   "source": [
    "import pandas as pd\n",
    "import numpy as np\n",
    "import json\n",
    "\n",
    "# Read json file from data/GRE/practice-gre.json as a dictionary\n",
    "with open('data/GRE/practice-gre.json') as f:\n",
    "    data = json.load(f)\n",
    "\n",
    "# Make a df from data['questions'] and flip the rows and columns\n",
    "qs = pd.DataFrame(data['questions']).T\n",
    "l = pd.DataFrame(data['lines']).T"
   ]
  },
  {
   "cell_type": "code",
   "execution_count": 2,
   "metadata": {},
   "outputs": [
    {
     "data": {
      "text/html": [
       "<div>\n",
       "<style scoped>\n",
       "    .dataframe tbody tr th:only-of-type {\n",
       "        vertical-align: middle;\n",
       "    }\n",
       "\n",
       "    .dataframe tbody tr th {\n",
       "        vertical-align: top;\n",
       "    }\n",
       "\n",
       "    .dataframe thead th {\n",
       "        text-align: right;\n",
       "    }\n",
       "</style>\n",
       "<table border=\"1\" class=\"dataframe\">\n",
       "  <thead>\n",
       "    <tr style=\"text-align: right;\">\n",
       "      <th></th>\n",
       "      <th>section</th>\n",
       "      <th>type</th>\n",
       "      <th>passage</th>\n",
       "      <th>prompt</th>\n",
       "      <th>blanks</th>\n",
       "      <th>answer</th>\n",
       "      <th>p+</th>\n",
       "      <th>explanation</th>\n",
       "      <th>lines_id</th>\n",
       "      <th>context</th>\n",
       "      <th>choices</th>\n",
       "      <th>not-applicable</th>\n",
       "      <th>quantities</th>\n",
       "    </tr>\n",
       "  </thead>\n",
       "  <tbody>\n",
       "    <tr>\n",
       "      <th>S3Q1</th>\n",
       "      <td>3</td>\n",
       "      <td>text_completion</td>\n",
       "      <td>{}</td>\n",
       "      <td>Many find it strange that her writing is thoug...</td>\n",
       "      <td>[{'id': 'i', 'choices': [{'label': 'A', 'text'...</td>\n",
       "      <td>[E]</td>\n",
       "      <td>57</td>\n",
       "      <td>optional_explanation_text_1</td>\n",
       "      <td>NaN</td>\n",
       "      <td>NaN</td>\n",
       "      <td>NaN</td>\n",
       "      <td>NaN</td>\n",
       "      <td>NaN</td>\n",
       "    </tr>\n",
       "    <tr>\n",
       "      <th>S3Q2</th>\n",
       "      <td>3</td>\n",
       "      <td>text_completion</td>\n",
       "      <td>{}</td>\n",
       "      <td>Most spacecraft are still at little risk of co...</td>\n",
       "      <td>[{'id': 'i', 'choices': [{'label': 'A', 'text'...</td>\n",
       "      <td>[E]</td>\n",
       "      <td>49</td>\n",
       "      <td>optional_explanation_text_2</td>\n",
       "      <td>NaN</td>\n",
       "      <td>NaN</td>\n",
       "      <td>NaN</td>\n",
       "      <td>NaN</td>\n",
       "      <td>NaN</td>\n",
       "    </tr>\n",
       "    <tr>\n",
       "      <th>S3Q3</th>\n",
       "      <td>3</td>\n",
       "      <td>text_completion</td>\n",
       "      <td>{}</td>\n",
       "      <td>The author presents the life of Zane Grey with...</td>\n",
       "      <td>[{'id': 'i', 'choices': [{'label': 'A', 'text'...</td>\n",
       "      <td>[C]</td>\n",
       "      <td>72</td>\n",
       "      <td>optional_explanation_text_3</td>\n",
       "      <td>NaN</td>\n",
       "      <td>NaN</td>\n",
       "      <td>NaN</td>\n",
       "      <td>NaN</td>\n",
       "      <td>NaN</td>\n",
       "    </tr>\n",
       "    <tr>\n",
       "      <th>S3Q4</th>\n",
       "      <td>3</td>\n",
       "      <td>text_completion</td>\n",
       "      <td>{}</td>\n",
       "      <td>The unironic representation of objects from ev...</td>\n",
       "      <td>[{'id': 'i', 'choices': [{'label': 'A', 'text'...</td>\n",
       "      <td>[A, E]</td>\n",
       "      <td>43</td>\n",
       "      <td>optional_explanation_text_4</td>\n",
       "      <td>NaN</td>\n",
       "      <td>NaN</td>\n",
       "      <td>NaN</td>\n",
       "      <td>NaN</td>\n",
       "      <td>NaN</td>\n",
       "    </tr>\n",
       "    <tr>\n",
       "      <th>S3Q5</th>\n",
       "      <td>3</td>\n",
       "      <td>text_completion</td>\n",
       "      <td>{}</td>\n",
       "      <td>A newly published, laudatory biography of Geor...</td>\n",
       "      <td>[{'id': 'i', 'choices': [{'label': 'A', 'text'...</td>\n",
       "      <td>[A, E]</td>\n",
       "      <td>None</td>\n",
       "      <td></td>\n",
       "      <td>NaN</td>\n",
       "      <td>NaN</td>\n",
       "      <td>NaN</td>\n",
       "      <td>NaN</td>\n",
       "      <td>NaN</td>\n",
       "    </tr>\n",
       "  </tbody>\n",
       "</table>\n",
       "</div>"
      ],
      "text/plain": [
       "     section             type passage  \\\n",
       "S3Q1       3  text_completion      {}   \n",
       "S3Q2       3  text_completion      {}   \n",
       "S3Q3       3  text_completion      {}   \n",
       "S3Q4       3  text_completion      {}   \n",
       "S3Q5       3  text_completion      {}   \n",
       "\n",
       "                                                 prompt  \\\n",
       "S3Q1  Many find it strange that her writing is thoug...   \n",
       "S3Q2  Most spacecraft are still at little risk of co...   \n",
       "S3Q3  The author presents the life of Zane Grey with...   \n",
       "S3Q4  The unironic representation of objects from ev...   \n",
       "S3Q5  A newly published, laudatory biography of Geor...   \n",
       "\n",
       "                                                 blanks  answer    p+  \\\n",
       "S3Q1  [{'id': 'i', 'choices': [{'label': 'A', 'text'...     [E]    57   \n",
       "S3Q2  [{'id': 'i', 'choices': [{'label': 'A', 'text'...     [E]    49   \n",
       "S3Q3  [{'id': 'i', 'choices': [{'label': 'A', 'text'...     [C]    72   \n",
       "S3Q4  [{'id': 'i', 'choices': [{'label': 'A', 'text'...  [A, E]    43   \n",
       "S3Q5  [{'id': 'i', 'choices': [{'label': 'A', 'text'...  [A, E]  None   \n",
       "\n",
       "                      explanation lines_id context choices not-applicable  \\\n",
       "S3Q1  optional_explanation_text_1      NaN     NaN     NaN            NaN   \n",
       "S3Q2  optional_explanation_text_2      NaN     NaN     NaN            NaN   \n",
       "S3Q3  optional_explanation_text_3      NaN     NaN     NaN            NaN   \n",
       "S3Q4  optional_explanation_text_4      NaN     NaN     NaN            NaN   \n",
       "S3Q5                                   NaN     NaN     NaN            NaN   \n",
       "\n",
       "     quantities  \n",
       "S3Q1        NaN  \n",
       "S3Q2        NaN  \n",
       "S3Q3        NaN  \n",
       "S3Q4        NaN  \n",
       "S3Q5        NaN  "
      ]
     },
     "execution_count": 2,
     "metadata": {},
     "output_type": "execute_result"
    }
   ],
   "source": [
    "qs.head()"
   ]
  },
  {
   "cell_type": "code",
   "execution_count": 3,
   "metadata": {},
   "outputs": [
    {
     "data": {
      "text/plain": [
       "['Historian F. W. Maitland observed that legal',\n",
       " 'documents are the best–indeed, often the',\n",
       " 'only–available evidence about the economic and',\n",
       " 'social history of a given period. Why, then, has it',\n",
       " 'taken so long for historians to focus systematically on',\n",
       " 'the civil (noncriminal) law of early modern',\n",
       " '(sixteenth- to eighteenth-century) England? Maitland',\n",
       " 'offered one reason: the subject requires researchers to',\n",
       " '\"master an extremely formal system of pleading and',\n",
       " 'procedure.\" Yet the complexities that confront those',\n",
       " 'who would study such materials are not wholly',\n",
       " 'different from those recently surmounted by',\n",
       " 'historians of criminal law in England during the same',\n",
       " \"period. Another possible explanation for historians'\",\n",
       " 'neglect of the subject is their widespread assumption',\n",
       " 'that most people in early modern England had little',\n",
       " 'contact with civil law. If that were so, the history of',\n",
       " 'legal matters would be of little relevance to general',\n",
       " 'historical scholarship. But recent research suggests',\n",
       " 'that civil litigation during the period involved',\n",
       " 'artisans, merchants, professionals, shopkeepers, and',\n",
       " 'farmers, and not merely a narrow, propertied, male',\n",
       " 'elite. Moreover, the later sixteenth and early',\n",
       " 'seventeenth centuries saw an extraordinary explosion',\n",
       " 'in civil litigation by both women and men, making',\n",
       " 'this the most litigious era in English history on a']"
      ]
     },
     "execution_count": 3,
     "metadata": {},
     "output_type": "execute_result"
    }
   ],
   "source": [
    "l['content']['S3_Questions_9_11']"
   ]
  },
  {
   "cell_type": "code",
   "execution_count": 4,
   "metadata": {},
   "outputs": [
    {
     "data": {
      "text/html": [
       "<div>\n",
       "<style scoped>\n",
       "    .dataframe tbody tr th:only-of-type {\n",
       "        vertical-align: middle;\n",
       "    }\n",
       "\n",
       "    .dataframe tbody tr th {\n",
       "        vertical-align: top;\n",
       "    }\n",
       "\n",
       "    .dataframe thead th {\n",
       "        text-align: right;\n",
       "    }\n",
       "</style>\n",
       "<table border=\"1\" class=\"dataframe\">\n",
       "  <thead>\n",
       "    <tr style=\"text-align: right;\">\n",
       "      <th></th>\n",
       "      <th>title</th>\n",
       "      <th>content</th>\n",
       "    </tr>\n",
       "  </thead>\n",
       "  <tbody>\n",
       "    <tr>\n",
       "      <th>S3_Questions_9_11</th>\n",
       "      <td></td>\n",
       "      <td>[Historian F. W. Maitland observed that legal,...</td>\n",
       "    </tr>\n",
       "    <tr>\n",
       "      <th>S3_Questions_12_13</th>\n",
       "      <td></td>\n",
       "      <td>[Geese can often be seen grazing in coastal, s...</td>\n",
       "    </tr>\n",
       "    <tr>\n",
       "      <th>S3_Questions_14_14</th>\n",
       "      <td></td>\n",
       "      <td>[Last year, Mayor Stephens established a speci...</td>\n",
       "    </tr>\n",
       "    <tr>\n",
       "      <th>S3_Questions_20_22</th>\n",
       "      <td></td>\n",
       "      <td>[The decrease in responsiveness that follows, ...</td>\n",
       "    </tr>\n",
       "    <tr>\n",
       "      <th>S3_Questions_23_24</th>\n",
       "      <td></td>\n",
       "      <td>[Among academics involved in the study of, Nor...</td>\n",
       "    </tr>\n",
       "    <tr>\n",
       "      <th>S3_Questions_25_25</th>\n",
       "      <td></td>\n",
       "      <td>[Recently an unusually high number of dolphins...</td>\n",
       "    </tr>\n",
       "    <tr>\n",
       "      <th>S4_Questions_9_12</th>\n",
       "      <td></td>\n",
       "      <td>[The work of English writer Aphra Behn, (1640-...</td>\n",
       "    </tr>\n",
       "    <tr>\n",
       "      <th>S4_Questions_13_14</th>\n",
       "      <td></td>\n",
       "      <td>[Computers cannot accurately predict climate, ...</td>\n",
       "    </tr>\n",
       "    <tr>\n",
       "      <th>S4_Questions15_15</th>\n",
       "      <td></td>\n",
       "      <td>[Extensive housing construction is underway in...</td>\n",
       "    </tr>\n",
       "    <tr>\n",
       "      <th>S4_Questions_20_21</th>\n",
       "      <td></td>\n",
       "      <td>[While chocolate was highly esteemed in, Mesoa...</td>\n",
       "    </tr>\n",
       "    <tr>\n",
       "      <th>S4_Questions_22_23</th>\n",
       "      <td></td>\n",
       "      <td>[Biologists generally agree that birds and din...</td>\n",
       "    </tr>\n",
       "    <tr>\n",
       "      <th>S4_Questions_24_25</th>\n",
       "      <td></td>\n",
       "      <td>[A portrait type that appeared with relentless...</td>\n",
       "    </tr>\n",
       "  </tbody>\n",
       "</table>\n",
       "</div>"
      ],
      "text/plain": [
       "                   title                                            content\n",
       "S3_Questions_9_11         [Historian F. W. Maitland observed that legal,...\n",
       "S3_Questions_12_13        [Geese can often be seen grazing in coastal, s...\n",
       "S3_Questions_14_14        [Last year, Mayor Stephens established a speci...\n",
       "S3_Questions_20_22        [The decrease in responsiveness that follows, ...\n",
       "S3_Questions_23_24        [Among academics involved in the study of, Nor...\n",
       "S3_Questions_25_25        [Recently an unusually high number of dolphins...\n",
       "S4_Questions_9_12         [The work of English writer Aphra Behn, (1640-...\n",
       "S4_Questions_13_14        [Computers cannot accurately predict climate, ...\n",
       "S4_Questions15_15         [Extensive housing construction is underway in...\n",
       "S4_Questions_20_21        [While chocolate was highly esteemed in, Mesoa...\n",
       "S4_Questions_22_23        [Biologists generally agree that birds and din...\n",
       "S4_Questions_24_25        [A portrait type that appeared with relentless..."
      ]
     },
     "execution_count": 4,
     "metadata": {},
     "output_type": "execute_result"
    }
   ],
   "source": [
    "l"
   ]
  },
  {
   "cell_type": "code",
   "execution_count": 5,
   "metadata": {},
   "outputs": [
    {
     "data": {
      "text/plain": [
       "True"
      ]
     },
     "execution_count": 5,
     "metadata": {},
     "output_type": "execute_result"
    }
   ],
   "source": [
    "'S4_Questions_24_25' in l.title"
   ]
  },
  {
   "cell_type": "code",
   "execution_count": 11,
   "metadata": {},
   "outputs": [
    {
     "name": "stdout",
     "output_type": "stream",
     "text": [
      "nan\n",
      "nan\n",
      "nan\n",
      "nan\n",
      "nan\n",
      "nan\n",
      "nan\n",
      "nan\n",
      "S3_Questions_9_11\n",
      "S3Q9\n"
     ]
    },
    {
     "ename": "ValueError",
     "evalue": "Must have equal len keys and value when setting with an iterable",
     "output_type": "error",
     "traceback": [
      "\u001b[0;31m---------------------------------------------------------------------------\u001b[0m",
      "\u001b[0;31mLossySetitemError\u001b[0m                         Traceback (most recent call last)",
      "File \u001b[0;32m/opt/homebrew/lib/python3.10/site-packages/pandas/core/frame.py:4212\u001b[0m, in \u001b[0;36mDataFrame._set_value\u001b[0;34m(self, index, col, value, takeable)\u001b[0m\n\u001b[1;32m   4211\u001b[0m     iindex \u001b[39m=\u001b[39m \u001b[39mself\u001b[39m\u001b[39m.\u001b[39mindex\u001b[39m.\u001b[39mget_loc(index)\n\u001b[0;32m-> 4212\u001b[0m \u001b[39mself\u001b[39;49m\u001b[39m.\u001b[39;49m_mgr\u001b[39m.\u001b[39;49mcolumn_setitem(icol, iindex, value, inplace\u001b[39m=\u001b[39;49m\u001b[39mTrue\u001b[39;49;00m)\n\u001b[1;32m   4213\u001b[0m \u001b[39mself\u001b[39m\u001b[39m.\u001b[39m_clear_item_cache()\n",
      "File \u001b[0;32m/opt/homebrew/lib/python3.10/site-packages/pandas/core/internals/managers.py:1389\u001b[0m, in \u001b[0;36mBlockManager.column_setitem\u001b[0;34m(self, loc, idx, value, inplace)\u001b[0m\n\u001b[1;32m   1388\u001b[0m \u001b[39mif\u001b[39;00m inplace:\n\u001b[0;32m-> 1389\u001b[0m     col_mgr\u001b[39m.\u001b[39;49msetitem_inplace(idx, value)\n\u001b[1;32m   1390\u001b[0m \u001b[39melse\u001b[39;00m:\n",
      "File \u001b[0;32m/opt/homebrew/lib/python3.10/site-packages/pandas/core/internals/managers.py:2102\u001b[0m, in \u001b[0;36mSingleBlockManager.setitem_inplace\u001b[0;34m(self, indexer, value)\u001b[0m\n\u001b[1;32m   2100\u001b[0m     \u001b[39mself\u001b[39m\u001b[39m.\u001b[39m_cache\u001b[39m.\u001b[39mclear()\n\u001b[0;32m-> 2102\u001b[0m \u001b[39msuper\u001b[39;49m()\u001b[39m.\u001b[39;49msetitem_inplace(indexer, value)\n",
      "File \u001b[0;32m/opt/homebrew/lib/python3.10/site-packages/pandas/core/internals/base.py:188\u001b[0m, in \u001b[0;36mSingleDataManager.setitem_inplace\u001b[0;34m(self, indexer, value)\u001b[0m\n\u001b[1;32m    185\u001b[0m \u001b[39mif\u001b[39;00m \u001b[39misinstance\u001b[39m(arr, np\u001b[39m.\u001b[39mndarray):\n\u001b[1;32m    186\u001b[0m     \u001b[39m# Note: checking for ndarray instead of np.dtype means we exclude\u001b[39;00m\n\u001b[1;32m    187\u001b[0m     \u001b[39m#  dt64/td64, which do their own validation.\u001b[39;00m\n\u001b[0;32m--> 188\u001b[0m     value \u001b[39m=\u001b[39m np_can_hold_element(arr\u001b[39m.\u001b[39;49mdtype, value)\n\u001b[1;32m    190\u001b[0m arr[indexer] \u001b[39m=\u001b[39m value\n",
      "File \u001b[0;32m/opt/homebrew/lib/python3.10/site-packages/pandas/core/dtypes/cast.py:2023\u001b[0m, in \u001b[0;36mnp_can_hold_element\u001b[0;34m(dtype, element)\u001b[0m\n\u001b[1;32m   2021\u001b[0m \u001b[39mif\u001b[39;00m tipo\u001b[39m.\u001b[39mkind \u001b[39mnot\u001b[39;00m \u001b[39min\u001b[39;00m [\u001b[39m\"\u001b[39m\u001b[39mf\u001b[39m\u001b[39m\"\u001b[39m, \u001b[39m\"\u001b[39m\u001b[39mi\u001b[39m\u001b[39m\"\u001b[39m, \u001b[39m\"\u001b[39m\u001b[39mu\u001b[39m\u001b[39m\"\u001b[39m]:\n\u001b[1;32m   2022\u001b[0m     \u001b[39m# Anything other than float/integer we cannot hold\u001b[39;00m\n\u001b[0;32m-> 2023\u001b[0m     \u001b[39mraise\u001b[39;00m LossySetitemError\n\u001b[1;32m   2024\u001b[0m \u001b[39melif\u001b[39;00m \u001b[39mnot\u001b[39;00m \u001b[39misinstance\u001b[39m(tipo, np\u001b[39m.\u001b[39mdtype):\n\u001b[1;32m   2025\u001b[0m     \u001b[39m# i.e. nullable IntegerDtype or FloatingDtype;\u001b[39;00m\n\u001b[1;32m   2026\u001b[0m     \u001b[39m#  we can put this into an ndarray losslessly iff it has no NAs\u001b[39;00m\n",
      "\u001b[0;31mLossySetitemError\u001b[0m: ",
      "\nDuring handling of the above exception, another exception occurred:\n",
      "\u001b[0;31mValueError\u001b[0m                                Traceback (most recent call last)",
      "Cell \u001b[0;32mIn[11], line 6\u001b[0m\n\u001b[1;32m      4\u001b[0m \u001b[39mprint\u001b[39m(index)\n\u001b[1;32m      5\u001b[0m content_value \u001b[39m=\u001b[39m l\u001b[39m.\u001b[39mloc[row[\u001b[39m'\u001b[39m\u001b[39mlines_id\u001b[39m\u001b[39m'\u001b[39m], \u001b[39m'\u001b[39m\u001b[39mcontent\u001b[39m\u001b[39m'\u001b[39m]\n\u001b[0;32m----> 6\u001b[0m qs\u001b[39m.\u001b[39;49mat[index, \u001b[39m'\u001b[39;49m\u001b[39mx\u001b[39;49m\u001b[39m'\u001b[39;49m] \u001b[39m=\u001b[39m content_value\n\u001b[1;32m      7\u001b[0m \u001b[39m# print(f\"Found {qs.iloc[i]['lines_id']} in l.title\")\u001b[39;00m\n\u001b[1;32m      8\u001b[0m \u001b[39m# print(f\"qs.iloc[i]['passage'] = {qs.iloc[i]['passage']}\")\u001b[39;00m\n",
      "File \u001b[0;32m/opt/homebrew/lib/python3.10/site-packages/pandas/core/indexing.py:2442\u001b[0m, in \u001b[0;36m_AtIndexer.__setitem__\u001b[0;34m(self, key, value)\u001b[0m\n\u001b[1;32m   2439\u001b[0m     \u001b[39mself\u001b[39m\u001b[39m.\u001b[39mobj\u001b[39m.\u001b[39mloc[key] \u001b[39m=\u001b[39m value\n\u001b[1;32m   2440\u001b[0m     \u001b[39mreturn\u001b[39;00m\n\u001b[0;32m-> 2442\u001b[0m \u001b[39mreturn\u001b[39;00m \u001b[39msuper\u001b[39;49m()\u001b[39m.\u001b[39;49m\u001b[39m__setitem__\u001b[39;49m(key, value)\n",
      "File \u001b[0;32m/opt/homebrew/lib/python3.10/site-packages/pandas/core/indexing.py:2397\u001b[0m, in \u001b[0;36m_ScalarAccessIndexer.__setitem__\u001b[0;34m(self, key, value)\u001b[0m\n\u001b[1;32m   2394\u001b[0m \u001b[39mif\u001b[39;00m \u001b[39mlen\u001b[39m(key) \u001b[39m!=\u001b[39m \u001b[39mself\u001b[39m\u001b[39m.\u001b[39mndim:\n\u001b[1;32m   2395\u001b[0m     \u001b[39mraise\u001b[39;00m \u001b[39mValueError\u001b[39;00m(\u001b[39m\"\u001b[39m\u001b[39mNot enough indexers for scalar access (setting)!\u001b[39m\u001b[39m\"\u001b[39m)\n\u001b[0;32m-> 2397\u001b[0m \u001b[39mself\u001b[39;49m\u001b[39m.\u001b[39;49mobj\u001b[39m.\u001b[39;49m_set_value(\u001b[39m*\u001b[39;49mkey, value\u001b[39m=\u001b[39;49mvalue, takeable\u001b[39m=\u001b[39;49m\u001b[39mself\u001b[39;49m\u001b[39m.\u001b[39;49m_takeable)\n",
      "File \u001b[0;32m/opt/homebrew/lib/python3.10/site-packages/pandas/core/frame.py:4224\u001b[0m, in \u001b[0;36mDataFrame._set_value\u001b[0;34m(self, index, col, value, takeable)\u001b[0m\n\u001b[1;32m   4222\u001b[0m         \u001b[39mself\u001b[39m\u001b[39m.\u001b[39miloc[index, col] \u001b[39m=\u001b[39m value\n\u001b[1;32m   4223\u001b[0m     \u001b[39melse\u001b[39;00m:\n\u001b[0;32m-> 4224\u001b[0m         \u001b[39mself\u001b[39;49m\u001b[39m.\u001b[39;49mloc[index, col] \u001b[39m=\u001b[39m value\n\u001b[1;32m   4225\u001b[0m     \u001b[39mself\u001b[39m\u001b[39m.\u001b[39m_item_cache\u001b[39m.\u001b[39mpop(col, \u001b[39mNone\u001b[39;00m)\n\u001b[1;32m   4227\u001b[0m \u001b[39mexcept\u001b[39;00m InvalidIndexError \u001b[39mas\u001b[39;00m ii_err:\n\u001b[1;32m   4228\u001b[0m     \u001b[39m# GH48729: Seems like you are trying to assign a value to a\u001b[39;00m\n\u001b[1;32m   4229\u001b[0m     \u001b[39m# row when only scalar options are permitted\u001b[39;00m\n",
      "File \u001b[0;32m/opt/homebrew/lib/python3.10/site-packages/pandas/core/indexing.py:818\u001b[0m, in \u001b[0;36m_LocationIndexer.__setitem__\u001b[0;34m(self, key, value)\u001b[0m\n\u001b[1;32m    815\u001b[0m \u001b[39mself\u001b[39m\u001b[39m.\u001b[39m_has_valid_setitem_indexer(key)\n\u001b[1;32m    817\u001b[0m iloc \u001b[39m=\u001b[39m \u001b[39mself\u001b[39m \u001b[39mif\u001b[39;00m \u001b[39mself\u001b[39m\u001b[39m.\u001b[39mname \u001b[39m==\u001b[39m \u001b[39m\"\u001b[39m\u001b[39miloc\u001b[39m\u001b[39m\"\u001b[39m \u001b[39melse\u001b[39;00m \u001b[39mself\u001b[39m\u001b[39m.\u001b[39mobj\u001b[39m.\u001b[39miloc\n\u001b[0;32m--> 818\u001b[0m iloc\u001b[39m.\u001b[39;49m_setitem_with_indexer(indexer, value, \u001b[39mself\u001b[39;49m\u001b[39m.\u001b[39;49mname)\n",
      "File \u001b[0;32m/opt/homebrew/lib/python3.10/site-packages/pandas/core/indexing.py:1795\u001b[0m, in \u001b[0;36m_iLocIndexer._setitem_with_indexer\u001b[0;34m(self, indexer, value, name)\u001b[0m\n\u001b[1;32m   1792\u001b[0m \u001b[39m# align and set the values\u001b[39;00m\n\u001b[1;32m   1793\u001b[0m \u001b[39mif\u001b[39;00m take_split_path:\n\u001b[1;32m   1794\u001b[0m     \u001b[39m# We have to operate column-wise\u001b[39;00m\n\u001b[0;32m-> 1795\u001b[0m     \u001b[39mself\u001b[39;49m\u001b[39m.\u001b[39;49m_setitem_with_indexer_split_path(indexer, value, name)\n\u001b[1;32m   1796\u001b[0m \u001b[39melse\u001b[39;00m:\n\u001b[1;32m   1797\u001b[0m     \u001b[39mself\u001b[39m\u001b[39m.\u001b[39m_setitem_single_block(indexer, value, name)\n",
      "File \u001b[0;32m/opt/homebrew/lib/python3.10/site-packages/pandas/core/indexing.py:1850\u001b[0m, in \u001b[0;36m_iLocIndexer._setitem_with_indexer_split_path\u001b[0;34m(self, indexer, value, name)\u001b[0m\n\u001b[1;32m   1845\u001b[0m     \u001b[39mif\u001b[39;00m \u001b[39mlen\u001b[39m(value) \u001b[39m==\u001b[39m \u001b[39m1\u001b[39m \u001b[39mand\u001b[39;00m \u001b[39mnot\u001b[39;00m is_integer(info_axis):\n\u001b[1;32m   1846\u001b[0m         \u001b[39m# This is a case like df.iloc[:3, [1]] = [0]\u001b[39;00m\n\u001b[1;32m   1847\u001b[0m         \u001b[39m#  where we treat as df.iloc[:3, 1] = 0\u001b[39;00m\n\u001b[1;32m   1848\u001b[0m         \u001b[39mreturn\u001b[39;00m \u001b[39mself\u001b[39m\u001b[39m.\u001b[39m_setitem_with_indexer((pi, info_axis[\u001b[39m0\u001b[39m]), value[\u001b[39m0\u001b[39m])\n\u001b[0;32m-> 1850\u001b[0m     \u001b[39mraise\u001b[39;00m \u001b[39mValueError\u001b[39;00m(\n\u001b[1;32m   1851\u001b[0m         \u001b[39m\"\u001b[39m\u001b[39mMust have equal len keys and value \u001b[39m\u001b[39m\"\u001b[39m\n\u001b[1;32m   1852\u001b[0m         \u001b[39m\"\u001b[39m\u001b[39mwhen setting with an iterable\u001b[39m\u001b[39m\"\u001b[39m\n\u001b[1;32m   1853\u001b[0m     )\n\u001b[1;32m   1855\u001b[0m \u001b[39melif\u001b[39;00m lplane_indexer \u001b[39m==\u001b[39m \u001b[39m0\u001b[39m \u001b[39mand\u001b[39;00m \u001b[39mlen\u001b[39m(value) \u001b[39m==\u001b[39m \u001b[39mlen\u001b[39m(\u001b[39mself\u001b[39m\u001b[39m.\u001b[39mobj\u001b[39m.\u001b[39mindex):\n\u001b[1;32m   1856\u001b[0m     \u001b[39m# We get here in one case via .loc with a all-False mask\u001b[39;00m\n\u001b[1;32m   1857\u001b[0m     \u001b[39mpass\u001b[39;00m\n",
      "\u001b[0;31mValueError\u001b[0m: Must have equal len keys and value when setting with an iterable"
     ]
    }
   ],
   "source": [
    "for i in range(len(qs['section'])):\n",
    "    print(qs.iloc[i]['lines_id'])\n",
    "    print(qs.iloc[i]['lines_id'] in l.title)\n",
    "    if qs.iloc[i]['lines_id'] in l.title:\n",
    "        print(i)\n",
    "        qs.iloc[i]['x'] = l['content'][qs.iloc[i]['lines_id']]\n",
    "        print(f\"Found {qs.iloc[i]['lines_id']} in l.title\")\n",
    "        print(f\"qs.iloc[i]['passage'] = {qs.iloc[i]['passage']}\")"
   ]
  },
  {
   "cell_type": "code",
   "execution_count": null,
   "metadata": {},
   "outputs": [],
   "source": [
    "l.head()"
   ]
  },
  {
   "cell_type": "code",
   "execution_count": null,
   "metadata": {},
   "outputs": [],
   "source": [
    "qs['type'].value_counts()"
   ]
  },
  {
   "cell_type": "code",
   "execution_count": null,
   "metadata": {},
   "outputs": [],
   "source": [
    "rc = qs[qs['type'] == 'reading_comprehension']"
   ]
  },
  {
   "cell_type": "code",
   "execution_count": null,
   "metadata": {},
   "outputs": [],
   "source": [
    "rc"
   ]
  },
  {
   "cell_type": "code",
   "execution_count": null,
   "metadata": {},
   "outputs": [],
   "source": [
    "rc['passage']['S3Q9']"
   ]
  },
  {
   "cell_type": "code",
   "execution_count": null,
   "metadata": {},
   "outputs": [],
   "source": [
    "rc['prompt']['S3Q9']"
   ]
  },
  {
   "cell_type": "code",
   "execution_count": null,
   "metadata": {},
   "outputs": [],
   "source": [
    "rc['blanks']['S3Q9']"
   ]
  },
  {
   "cell_type": "code",
   "execution_count": null,
   "metadata": {},
   "outputs": [],
   "source": [
    "mcq = qs[qs['type'] == 'multiple_choice']"
   ]
  },
  {
   "cell_type": "code",
   "execution_count": null,
   "metadata": {},
   "outputs": [],
   "source": [
    "mcq['choices']['S5Q11']"
   ]
  },
  {
   "cell_type": "code",
   "execution_count": null,
   "metadata": {},
   "outputs": [],
   "source": [
    "for i in range(len(mcq['section'])):\n",
    "    # construct the prompt with the prompt and the choices. Loop through the choices and add them as 'key) value'. Choices are in a dictionary like {'A': '1', 'B': '0', 'C': '-1', 'D': '-2', 'E': '-3'}\n",
    "    prompt = mcq.iloc[i]['prompt'] + ' ' + ' '.join([f\"{k}) {v}\" for k, v in mcq.iloc[i]['choices'].items()])\n",
    "    print(prompt)\n",
    "    print(' ')\n",
    "    # add the prompt to the mcq df as a new column called 'question'\n",
    "    mcq.iloc[i]['question'] = prompt"
   ]
  },
  {
   "cell_type": "code",
   "execution_count": null,
   "metadata": {},
   "outputs": [],
   "source": [
    "for index, row in mcq.iterrows():\n",
    "    # construct the prompt with the prompt and the choices. Loop through the choices and add them as 'key) value'. Choices are in a dictionary like {'A': '1', 'B': '0', 'C': '-1', 'D': '-2', 'E': '-3'}\n",
    "    prompt = row['prompt'] + ' ' + ' '.join([f\"{k}) {v}\" for k, v in row['choices'].items()])\n",
    "    print(prompt)\n",
    "    print(' ')\n",
    "    # add the prompt to the mcq df as a new column called 'question'\n",
    "    mcq.at[index, 'question'] = prompt"
   ]
  },
  {
   "cell_type": "code",
   "execution_count": null,
   "metadata": {},
   "outputs": [],
   "source": [
    "mcq"
   ]
  },
  {
   "cell_type": "code",
   "execution_count": null,
   "metadata": {},
   "outputs": [],
   "source": [
    "df = pd.read_json('data/GRE/practice-gre.json')\n",
    "df.head()"
   ]
  },
  {
   "cell_type": "code",
   "execution_count": null,
   "metadata": {},
   "outputs": [],
   "source": [
    "# save the df 'qs' as a json file named 'data/GRE/full_data.json'\n",
    "qs.to_json('data/GRE/gre.json')"
   ]
  },
  {
   "cell_type": "code",
   "execution_count": null,
   "metadata": {},
   "outputs": [],
   "source": [
    "mcq.to_json('data/GRE/mcq.json')"
   ]
  }
 ],
 "metadata": {
  "kernelspec": {
   "display_name": "Python 3",
   "language": "python",
   "name": "python3"
  },
  "language_info": {
   "codemirror_mode": {
    "name": "ipython",
    "version": 3
   },
   "file_extension": ".py",
   "mimetype": "text/x-python",
   "name": "python",
   "nbconvert_exporter": "python",
   "pygments_lexer": "ipython3",
   "version": "3.10.10"
  },
  "orig_nbformat": 4
 },
 "nbformat": 4,
 "nbformat_minor": 2
}
